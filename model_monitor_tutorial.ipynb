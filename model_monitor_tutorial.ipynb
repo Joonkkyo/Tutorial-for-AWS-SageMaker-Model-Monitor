{
 "cells": [
  {
   "cell_type": "markdown",
   "id": "8cd95d90",
   "metadata": {},
   "source": [
    "# Section 1 - Setup\n",
    "필요한 라이브러리를 가져오고, 변수를 설정하고, 노트북과 함께 제공되는 XGBoost 고객 이탈 모델을 학습하는 데 사용된 데이터를 검사합니다.\n",
    "* 모델을 호스팅하는 데 사용되는 AWS region 설정\n",
    "* Sagemaker 노트북 인스턴스와 연결된 IAM Role 설정\n",
    "* 모델 훈련에 사용되는 데이터, 테스트 데이터 및 모델 호출에서 캡쳐한 데이터를 저장하는 데 사용되는 S3 버킷 설정"
   ]
  },
  {
   "cell_type": "markdown",
   "id": "c66207ca",
   "metadata": {},
   "source": [
    "### 1.1 Import libraries"
   ]
  },
  {
   "cell_type": "code",
   "execution_count": 4,
   "id": "fa0a36f6",
   "metadata": {},
   "outputs": [],
   "source": [
    "from datetime import datetime, timedelta, timezone\n",
    "import json\n",
    "import os\n",
    "import re\n",
    "import boto3\n",
    "from time import sleep\n",
    "from threading import Thread\n",
    "\n",
    "import pandas as pd\n",
    "\n",
    "from sagemaker import get_execution_role, session, Session, image_uris\n",
    "from sagemaker.s3 import S3Downloader, S3Uploader\n",
    "from sagemaker.processing import ProcessingJob\n",
    "from sagemaker.serializers import CSVSerializer\n",
    "\n",
    "from sagemaker.model import Model\n",
    "from sagemaker.model_monitor import DataCaptureConfig\n",
    "\n",
    "session = Session()"
   ]
  },
  {
   "cell_type": "code",
   "execution_count": 5,
   "id": "e1812eb9",
   "metadata": {},
   "outputs": [],
   "source": [
    "import os\n",
    "os.chdir('/home/ec2-user/SageMaker/model_quality_2021-11-03')"
   ]
  },
  {
   "cell_type": "markdown",
   "id": "4fe4504f",
   "metadata": {},
   "source": [
    "### 1.2 AWS region and  IAM Role"
   ]
  },
  {
   "cell_type": "code",
   "execution_count": 6,
   "id": "26e6830a",
   "metadata": {},
   "outputs": [
    {
     "name": "stdout",
     "output_type": "stream",
     "text": [
      "RoleArn: arn:aws:iam::023376671800:role/service-role/AmazonSageMaker-ExecutionRole-20211029T114568\n",
      "Region: ap-northeast-2\n"
     ]
    }
   ],
   "source": [
    "role = get_execution_role()\n",
    "print(\"RoleArn:\", role)\n",
    "\n",
    "region = session.boto_region_name\n",
    "print(\"Region:\", region)"
   ]
  },
  {
   "cell_type": "markdown",
   "id": "d38fae07",
   "metadata": {},
   "source": [
    "### 1.3 S3 bucket and prefixes"
   ]
  },
  {
   "cell_type": "code",
   "execution_count": 7,
   "id": "07cdef79",
   "metadata": {},
   "outputs": [
    {
     "name": "stdout",
     "output_type": "stream",
     "text": [
      "Demo Bucket: sagemaker-ap-northeast-2-023376671800\n"
     ]
    }
   ],
   "source": [
    "##Setup S3 bucket\n",
    "bucket = session.default_bucket()\n",
    "print(\"Demo Bucket:\", bucket)\n",
    "prefix = \"sagemaker/ModelMonitor\""
   ]
  },
  {
   "cell_type": "code",
   "execution_count": 8,
   "id": "149aa7b5",
   "metadata": {},
   "outputs": [
    {
     "name": "stdout",
     "output_type": "stream",
     "text": [
      "Capture path: s3://sagemaker-ap-northeast-2-023376671800/sagemaker/ModelMonitor/datacapture\n",
      "Ground truth path: s3://sagemaker-ap-northeast-2-023376671800/sagemaker/ModelMonitor/ground_truth_data/2021-11-08-08\n",
      "Report path: s3://sagemaker-ap-northeast-2-023376671800/sagemaker/ModelMonitor/reports\n"
     ]
    }
   ],
   "source": [
    "##S3 prefixes\n",
    "data_capture_prefix = f\"{prefix}/datacapture\"\n",
    "s3_capture_upload_path = f\"s3://{bucket}/{data_capture_prefix}\"\n",
    "\n",
    "ground_truth_upload_path = (\n",
    "    f\"s3://{bucket}/{prefix}/ground_truth_data/{datetime.now():%Y-%m-%d-%H}\"\n",
    ")\n",
    "\n",
    "reports_prefix = f\"{prefix}/reports\"\n",
    "s3_report_path = f\"s3://{bucket}/{reports_prefix}\"\n",
    "\n",
    "print(f\"Capture path: {s3_capture_upload_path}\")\n",
    "print(f\"Ground truth path: {ground_truth_upload_path}\")\n",
    "print(f\"Report path: {s3_report_path}\")"
   ]
  },
  {
   "cell_type": "code",
   "execution_count": 9,
   "id": "9c1f16e5",
   "metadata": {},
   "outputs": [
    {
     "name": "stdout",
     "output_type": "stream",
     "text": [
      "Image URI: 709848358524.dkr.ecr.ap-northeast-2.amazonaws.com/sagemaker-model-monitor-analyzer\n"
     ]
    }
   ],
   "source": [
    "##Get the model monitor image\n",
    "monitor_image_uri = image_uris.retrieve(framework=\"model-monitor\", region=region)\n",
    "\n",
    "print(\"Image URI:\", monitor_image_uri)"
   ]
  },
  {
   "cell_type": "markdown",
   "id": "f23fe894",
   "metadata": {},
   "source": [
    "### 1.4 Test access to the S3 bucket\n",
    "노트북에 위에 지정된 S3 버킷에 액세스할 수 있는 올바른 권한이 있는지 테스트 합니다.\n",
    "간단한 테스트 객체를 S3 버킷에 업로드합니다. 이 명령이 실패하면 이 노트북에서 데이터 캡처 및 모델 모니터링 기능이 작동하지 않습니다. `s3:PutObject` 권한을 갖도록 이 노트북 인스턴스와 연결된 역할을 업데이트하고 이 유효성 검사를 다시 시도하여 이 문제를 해결할 수 있습니다."
   ]
  },
  {
   "cell_type": "code",
   "execution_count": 11,
   "id": "8be73e73",
   "metadata": {},
   "outputs": [
    {
     "name": "stdout",
     "output_type": "stream",
     "text": [
      "Success! You are all set to proceed.\n"
     ]
    }
   ],
   "source": [
    "# Upload some test files\n",
    "S3Uploader.upload(\"./test_data/upload-test-file.txt\", f\"s3://{bucket}/test_upload\")\n",
    "print(\"Success! You are all set to proceed.\")"
   ]
  },
  {
   "cell_type": "markdown",
   "id": "a839d77c",
   "metadata": {},
   "source": [
    "## Section 2 - Deploy pre-trained model with data capture enabled\n",
    " 사전 훈련된 모델을 S3 버킷에 업로드하고, Amazon SageMaker 모델을 생성하고, Amazon SageMaker 실시간 엔드포인트를 생성하고, 엔드포인트에서 데이터 캡처를 활성화하여 엔드포인트 호출, 예측 및 메타데이터를 캡처합니다."
   ]
  },
  {
   "cell_type": "markdown",
   "id": "ad2422d7",
   "metadata": {},
   "source": [
    "### 2.1 Upload the pre-trained model to S3\n",
    "배포할 준비가 된 사전 훈련된 XGBoost 모델을 업로드합니다. 모델은 SageMaker에서 XGBoost 이미지를 사용하여 학습되었습니다. \n",
    "이 단계에서 사전 훈련된 자체 모델을 사용할 수도 있습니다. Amazon S3에 이미 사전 훈련된 모델이 있는 경우 s3_key를 지정하여 대신 추가할 수 있습니다."
   ]
  },
  {
   "cell_type": "code",
   "execution_count": 12,
   "id": "13671241",
   "metadata": {},
   "outputs": [
    {
     "data": {
      "text/plain": [
       "'s3://sagemaker-ap-northeast-2-023376671800/sagemaker/ModelMonitor/xgb-churn-prediction-model.tar.gz'"
      ]
     },
     "execution_count": 12,
     "metadata": {},
     "output_type": "execute_result"
    }
   ],
   "source": [
    "##Upload the pretrained model to S3\n",
    "s3_key = f\"s3://{bucket}/{prefix}\"\n",
    "model_url = S3Uploader.upload(\"model/xgb-churn-prediction-model.tar.gz\", s3_key)\n",
    "model_url"
   ]
  },
  {
   "cell_type": "markdown",
   "id": "3c1bb430",
   "metadata": {},
   "source": [
    "### 2.2 Create SageMaker Model entity\n",
    "S3에 업로드된 모델 파일에서 Amazon SageMaker 모델을 생성합니다."
   ]
  },
  {
   "cell_type": "code",
   "execution_count": 13,
   "id": "7546e639",
   "metadata": {},
   "outputs": [
    {
     "name": "stdout",
     "output_type": "stream",
     "text": [
      "<sagemaker.model.Model object at 0x7f7d2c331ac8>\n"
     ]
    }
   ],
   "source": [
    "model_name = f\"pred-model-monitor-{datetime.utcnow():%Y-%m-%d-%H}\"\n",
    "\n",
    "image_uri = image_uris.retrieve(framework=\"xgboost\", version=\"0.90-1\", region=region)\n",
    "\n",
    "model = Model(image_uri=image_uri, model_data=model_url, role=role)\n",
    "print(model)"
   ]
  },
  {
   "cell_type": "markdown",
   "id": "74803e65",
   "metadata": {},
   "source": [
    "### 2.3 Deploy the model with data capture enabled\n",
    "데이터 캡처가 활성화된 인스턴스에 SageMaker 모델을 배포합니다."
   ]
  },
  {
   "cell_type": "code",
   "execution_count": 14,
   "id": "c6bfe1b1",
   "metadata": {},
   "outputs": [
    {
     "name": "stdout",
     "output_type": "stream",
     "text": [
      "EndpointName = model-quality-monitor-2021-11-08-08\n"
     ]
    }
   ],
   "source": [
    "endpoint_name = f\"model-quality-monitor-{datetime.utcnow():%Y-%m-%d-%H}\"\n",
    "print(\"EndpointName =\", endpoint_name)"
   ]
  },
  {
   "cell_type": "code",
   "execution_count": 15,
   "id": "02dcbcd3",
   "metadata": {},
   "outputs": [
    {
     "name": "stdout",
     "output_type": "stream",
     "text": [
      "-------------!"
     ]
    }
   ],
   "source": [
    "data_capture_config = DataCaptureConfig(\n",
    "    enable_capture=True, sampling_percentage=100, destination_s3_uri=s3_capture_upload_path\n",
    ")\n",
    "\n",
    "model.deploy(\n",
    "    initial_instance_count=1,\n",
    "    instance_type=\"ml.m5.xlarge\",\n",
    "    endpoint_name=endpoint_name,\n",
    "    data_capture_config=data_capture_config,\n",
    ")"
   ]
  },
  {
   "cell_type": "markdown",
   "id": "0937071d",
   "metadata": {},
   "source": [
    "### 2.4 Create the SageMaker Predictor object from the endpoint to be used for invoking the model"
   ]
  },
  {
   "cell_type": "code",
   "execution_count": 16,
   "id": "43b07a56",
   "metadata": {},
   "outputs": [],
   "source": [
    "from sagemaker.predictor import Predictor\n",
    "\n",
    "predictor = Predictor(\n",
    "    endpoint_name=endpoint_name, sagemaker_session=session, serializer=CSVSerializer()\n",
    ")"
   ]
  },
  {
   "cell_type": "markdown",
   "id": "57b0571d",
   "metadata": {},
   "source": [
    "##  Section 3 - Generate a baseline for model quality performance\n",
    "Validation Data를 사용하여 위에서 만든 Endpoint를 호출합니다. 이 데이터를 사용하여 배포된 모델의 예측은 Baseline으로 사용됩니다. 그 다음 SageMaker의 모델 모니터링을 사용하여 모델 성능 데이터를 계산하는 작업을 실행하고 Baseline을 기반으로 모델 품질 제약 조건을 제안합니다."
   ]
  },
  {
   "cell_type": "markdown",
   "id": "2dc4642f",
   "metadata": {},
   "source": [
    "### 3.1 Execute predictions using the validation dataset\n",
    "배포된 모델은 고객이 이탈할 확률을 반환합니다. cut-off 기준은 0.8로 설정하였습니다."
   ]
  },
  {
   "cell_type": "code",
   "execution_count": 17,
   "id": "31525f47",
   "metadata": {},
   "outputs": [],
   "source": [
    "churn_cutoff = 0.8\n",
    "validate_dataset = \"validation_with_predictions.csv\""
   ]
  },
  {
   "cell_type": "code",
   "execution_count": 18,
   "id": "e0d0180e",
   "metadata": {},
   "outputs": [
    {
     "name": "stdout",
     "output_type": "stream",
     "text": [
      "........................................................................................................................................................................................................\n",
      "Done!\n"
     ]
    }
   ],
   "source": [
    "limit = 200  # Baseline을 계산하기 위해서 최소 200개의 샘플이 필요합니다.\n",
    "i = 0\n",
    "with open(f\"test_data/{validate_dataset}\", \"w\") as baseline_file:\n",
    "    baseline_file.write(\"probability,prediction,label\\n\")  # header\n",
    "    with open(\"test_data/validation.csv\", \"r\") as f:\n",
    "        for row in f:\n",
    "            (label, input_cols) = row.split(\",\", 1)\n",
    "            probability = float(predictor.predict(input_cols))\n",
    "            prediction = \"1\" if probability > churn_cutoff else \"0\"\n",
    "            baseline_file.write(f\"{probability},{prediction},{label}\\n\")\n",
    "            i += 1\n",
    "            if i > limit:\n",
    "                break\n",
    "            print(\".\", end=\"\", flush=True)\n",
    "            sleep(0.1)\n",
    "print()\n",
    "print(\"Done!\")"
   ]
  },
  {
   "cell_type": "markdown",
   "id": "0c4fed6d",
   "metadata": {},
   "source": [
    "### 3.2 Examine the predictions from the model"
   ]
  },
  {
   "cell_type": "code",
   "execution_count": 19,
   "id": "a1e71141",
   "metadata": {},
   "outputs": [
    {
     "name": "stdout",
     "output_type": "stream",
     "text": [
      "probability,prediction,label\n",
      "0.01516005303710699,0,0\n",
      "0.1684480607509613,0,0\n",
      "0.21427156031131744,0,0\n",
      "0.06330718100070953,0,0\n",
      "0.02791607193648815,0,0\n",
      "0.014169521629810333,0,0\n",
      "0.00571369007229805,0,0\n",
      "0.10534518957138062,0,0\n",
      "0.025899196043610573,0,0\n"
     ]
    }
   ],
   "source": [
    "!head test_data/validation_with_predictions.csv"
   ]
  },
  {
   "cell_type": "markdown",
   "id": "b8ae2e62",
   "metadata": {},
   "source": [
    "### 3.3 Upload the predictions as a baseline dataset\n",
    "Validation Dataset을 사용하여 예측한 결과를 S3에 업로드하고 모델 품질 수준 및 기준 제약 조건을 생성하기 위한 기초 작업입니다."
   ]
  },
  {
   "cell_type": "code",
   "execution_count": 20,
   "id": "95262cfe",
   "metadata": {},
   "outputs": [
    {
     "name": "stdout",
     "output_type": "stream",
     "text": [
      "Baseline data uri: s3://sagemaker-ap-northeast-2-023376671800/sagemaker/ModelMonitor/baselining/data\n",
      "Baseline results uri: s3://sagemaker-ap-northeast-2-023376671800/sagemaker/ModelMonitor/baselining/results\n"
     ]
    }
   ],
   "source": [
    "baseline_prefix = prefix + \"/baselining\"\n",
    "baseline_data_prefix = baseline_prefix + \"/data\"\n",
    "baseline_results_prefix = baseline_prefix + \"/results\"\n",
    "\n",
    "baseline_data_uri = f\"s3://{bucket}/{baseline_data_prefix}\"\n",
    "baseline_results_uri = f\"s3://{bucket}/{baseline_results_prefix}\"\n",
    "print(f\"Baseline data uri: {baseline_data_uri}\")\n",
    "print(f\"Baseline results uri: {baseline_results_uri}\")"
   ]
  },
  {
   "cell_type": "code",
   "execution_count": 21,
   "id": "5201f756",
   "metadata": {},
   "outputs": [
    {
     "data": {
      "text/plain": [
       "'s3://sagemaker-ap-northeast-2-023376671800/sagemaker/ModelMonitor/baselining/data/validation_with_predictions.csv'"
      ]
     },
     "execution_count": 21,
     "metadata": {},
     "output_type": "execute_result"
    }
   ],
   "source": [
    "baseline_dataset_uri = S3Uploader.upload(f\"test_data/{validate_dataset}\", baseline_data_uri)\n",
    "baseline_dataset_uri"
   ]
  },
  {
   "cell_type": "markdown",
   "id": "f4ac5653",
   "metadata": {},
   "source": [
    "### 3.4 Create a baselining job with validation dataset predictions\n",
    "모델 품질 모니터링 대상을 정의하고 모델 품질 모니터링 Baseline 생성을 실행합니다. 모델 모니터는 제공된 Validation Set을 기반으로 Baseline을 자동으로 생성합니다."
   ]
  },
  {
   "cell_type": "code",
   "execution_count": 22,
   "id": "7abc4cc8",
   "metadata": {},
   "outputs": [],
   "source": [
    "from sagemaker.model_monitor import ModelQualityMonitor\n",
    "from sagemaker.model_monitor import EndpointInput\n",
    "from sagemaker.model_monitor.dataset_format import DatasetFormat"
   ]
  },
  {
   "cell_type": "code",
   "execution_count": 23,
   "id": "5dd623f1",
   "metadata": {},
   "outputs": [],
   "source": [
    "# Create the model quality monitoring object\n",
    "churn_model_quality_monitor = ModelQualityMonitor(\n",
    "    role=role,  # AWS IAM role\n",
    "    instance_type=\"ml.m5.xlarge\",\n",
    "    max_runtime_in_seconds=1800,  ##Cron Job 주기보다 값이 작아야 함.\n",
    "    sagemaker_session=session,\n",
    ")"
   ]
  },
  {
   "cell_type": "code",
   "execution_count": 24,
   "id": "f8063718",
   "metadata": {},
   "outputs": [],
   "source": [
    "# Name of the model quality baseline job\n",
    "baseline_job_name = f\"model-quality-baseline-job-{datetime.utcnow():%Y-%m-%d-%H}\""
   ]
  },
  {
   "cell_type": "code",
   "execution_count": 25,
   "id": "88fa5725",
   "metadata": {},
   "outputs": [
    {
     "name": "stdout",
     "output_type": "stream",
     "text": [
      "\n",
      "Job Name:  model-quality-baseline-job-2021-11-08-09\n",
      "Inputs:  [{'InputName': 'baseline_dataset_input', 'AppManaged': False, 'S3Input': {'S3Uri': 's3://sagemaker-ap-northeast-2-023376671800/sagemaker/ModelMonitor/baselining/data/validation_with_predictions.csv', 'LocalPath': '/opt/ml/processing/input/baseline_dataset_input', 'S3DataType': 'S3Prefix', 'S3InputMode': 'File', 'S3DataDistributionType': 'FullyReplicated', 'S3CompressionType': 'None'}}]\n",
      "Outputs:  [{'OutputName': 'monitoring_output', 'AppManaged': False, 'S3Output': {'S3Uri': 's3://sagemaker-ap-northeast-2-023376671800/sagemaker/ModelMonitor/baselining/results', 'LocalPath': '/opt/ml/processing/output', 'S3UploadMode': 'EndOfJob'}}]\n",
      "..................................................................!"
     ]
    }
   ],
   "source": [
    "# Execute the baseline suggestion job.\n",
    "job = churn_model_quality_monitor.suggest_baseline(\n",
    "    job_name=baseline_job_name,\n",
    "    baseline_dataset=baseline_dataset_uri,\n",
    "    dataset_format=DatasetFormat.csv(header=True),\n",
    "    output_s3_uri=baseline_results_uri,\n",
    "    problem_type=\"BinaryClassification\", # 문제 유형을 지정하고 아래 필수 attribute의 header를 입력\n",
    "    inference_attribute=\"prediction\",\n",
    "    probability_attribute=\"probability\",\n",
    "    ground_truth_attribute=\"label\",\n",
    ")\n",
    "job.wait(logs=False)"
   ]
  },
  {
   "cell_type": "markdown",
   "id": "00771fdb",
   "metadata": {},
   "source": [
    "### 3.5 Explore the results of the baselining job\n",
    "Baseline 정보가 S3에 업로드되는 것을 확인할 수 있습니다."
   ]
  },
  {
   "cell_type": "code",
   "execution_count": 26,
   "id": "00784a89",
   "metadata": {},
   "outputs": [],
   "source": [
    "baseline_job = churn_model_quality_monitor.latest_baselining_job"
   ]
  },
  {
   "cell_type": "code",
   "execution_count": 27,
   "id": "b074b0ac",
   "metadata": {},
   "outputs": [
    {
     "data": {
      "text/html": [
       "<div>\n",
       "<style scoped>\n",
       "    .dataframe tbody tr th:only-of-type {\n",
       "        vertical-align: middle;\n",
       "    }\n",
       "\n",
       "    .dataframe tbody tr th {\n",
       "        vertical-align: top;\n",
       "    }\n",
       "\n",
       "    .dataframe thead th {\n",
       "        text-align: right;\n",
       "    }\n",
       "</style>\n",
       "<table border=\"1\" class=\"dataframe\">\n",
       "  <thead>\n",
       "    <tr style=\"text-align: right;\">\n",
       "      <th></th>\n",
       "      <th>threshold</th>\n",
       "      <th>comparison_operator</th>\n",
       "    </tr>\n",
       "  </thead>\n",
       "  <tbody>\n",
       "    <tr>\n",
       "      <th>recall</th>\n",
       "      <td>0.571429</td>\n",
       "      <td>LessThanThreshold</td>\n",
       "    </tr>\n",
       "    <tr>\n",
       "      <th>precision</th>\n",
       "      <td>1</td>\n",
       "      <td>LessThanThreshold</td>\n",
       "    </tr>\n",
       "    <tr>\n",
       "      <th>accuracy</th>\n",
       "      <td>0.940299</td>\n",
       "      <td>LessThanThreshold</td>\n",
       "    </tr>\n",
       "    <tr>\n",
       "      <th>true_positive_rate</th>\n",
       "      <td>0.571429</td>\n",
       "      <td>LessThanThreshold</td>\n",
       "    </tr>\n",
       "    <tr>\n",
       "      <th>true_negative_rate</th>\n",
       "      <td>1</td>\n",
       "      <td>LessThanThreshold</td>\n",
       "    </tr>\n",
       "    <tr>\n",
       "      <th>false_positive_rate</th>\n",
       "      <td>0</td>\n",
       "      <td>GreaterThanThreshold</td>\n",
       "    </tr>\n",
       "    <tr>\n",
       "      <th>false_negative_rate</th>\n",
       "      <td>0.428571</td>\n",
       "      <td>GreaterThanThreshold</td>\n",
       "    </tr>\n",
       "    <tr>\n",
       "      <th>auc</th>\n",
       "      <td>0.939513</td>\n",
       "      <td>LessThanThreshold</td>\n",
       "    </tr>\n",
       "    <tr>\n",
       "      <th>f0_5</th>\n",
       "      <td>0.869565</td>\n",
       "      <td>LessThanThreshold</td>\n",
       "    </tr>\n",
       "    <tr>\n",
       "      <th>f1</th>\n",
       "      <td>0.727273</td>\n",
       "      <td>LessThanThreshold</td>\n",
       "    </tr>\n",
       "    <tr>\n",
       "      <th>f2</th>\n",
       "      <td>0.625</td>\n",
       "      <td>LessThanThreshold</td>\n",
       "    </tr>\n",
       "  </tbody>\n",
       "</table>\n",
       "</div>"
      ],
      "text/plain": [
       "                    threshold   comparison_operator\n",
       "recall               0.571429     LessThanThreshold\n",
       "precision                   1     LessThanThreshold\n",
       "accuracy             0.940299     LessThanThreshold\n",
       "true_positive_rate   0.571429     LessThanThreshold\n",
       "true_negative_rate          1     LessThanThreshold\n",
       "false_positive_rate         0  GreaterThanThreshold\n",
       "false_negative_rate  0.428571  GreaterThanThreshold\n",
       "auc                  0.939513     LessThanThreshold\n",
       "f0_5                 0.869565     LessThanThreshold\n",
       "f1                   0.727273     LessThanThreshold\n",
       "f2                      0.625     LessThanThreshold"
      ]
     },
     "execution_count": 27,
     "metadata": {},
     "output_type": "execute_result"
    }
   ],
   "source": [
    "pd.DataFrame(baseline_job.suggested_constraints().body_dict[\"binary_classification_constraints\"]).T"
   ]
  },
  {
   "cell_type": "markdown",
   "id": "419ad2bc",
   "metadata": {},
   "source": [
    "* 위 결과에서는 모델의 F2 score가 0.625 미만에 대해 경고하도록 제약 조건을 설정한 것을 볼 수 있습니다. \n",
    "* Precision 처럼 강한 제약 조건을 가질 수도 있습니다. 모니터링에 사용하기 전에 필요에 따라 이 파일을 수정하는 것이 필요합니다."
   ]
  },
  {
   "cell_type": "markdown",
   "id": "5c0a86e8",
   "metadata": {},
   "source": [
    "## Section 4 - Setup continuous model monitoring to identify model quality drift\n",
    "생성된 Baseline에 대해 배포된 모델의 품질을 모니터링하는 모델 모니터링 작업을 설정합니다."
   ]
  },
  {
   "cell_type": "markdown",
   "id": "391ac651",
   "metadata": {},
   "source": [
    "### 4.1 Generate prediction data for Model Quality  Monitoring\n",
    "아래 코드는 트래픽을 Endpoint로 보내기 위해 Thread를 시작합니다. 트래픽이 없으면 처리할 데이터가 없으므로 모니터링 작업은 `Failed`로 표시됩니다.\n",
    "* Endpoint를 호출할 때 `inferenceId`를 반드시 설정하여야 합니다. 이 속성은 예측 데이터를 실측 데이터와 결합하는 데 사용됩니다."
   ]
  },
  {
   "cell_type": "code",
   "execution_count": 28,
   "id": "c4657086",
   "metadata": {},
   "outputs": [],
   "source": [
    "def invoke_endpoint(ep_name, file_name):\n",
    "    with open(file_name, \"r\") as f:\n",
    "        i = 0\n",
    "        for row in f:\n",
    "            payload = row.rstrip(\"\\n\")\n",
    "            response = session.sagemaker_runtime_client.invoke_endpoint(\n",
    "                EndpointName=endpoint_name,\n",
    "                ContentType=\"text/csv\",\n",
    "                Body=payload,\n",
    "                InferenceId=str(i),  # unique ID per row\n",
    "            )[\"Body\"].read()\n",
    "            i += 1\n",
    "            sleep(1)\n",
    "\n",
    "\n",
    "def invoke_endpoint_forever():\n",
    "    while True:\n",
    "        invoke_endpoint(endpoint_name, \"test_data/test-dataset-input-cols.csv\")\n",
    "\n",
    "\n",
    "thread = Thread(target=invoke_endpoint_forever)\n",
    "thread.start()"
   ]
  },
  {
   "cell_type": "markdown",
   "id": "857b0771",
   "metadata": {},
   "source": [
    "### 4.2 View captured data\n",
    "Amazon S3에 저장된 데이터 캡처 파일을 확인합니다. 호출이 발생한 시간을 기준으로 파일이 표시되며, S3 경로의 형식은 다음과 같습니다.\n",
    "\n",
    "`s3://{destination-bucket-prefix}/{endpoint-name}/{variant-name}/yyyy/mm/dd/hh/filename.jsonl`"
   ]
  },
  {
   "cell_type": "code",
   "execution_count": 29,
   "id": "0c5358d2",
   "metadata": {},
   "outputs": [
    {
     "name": "stdout",
     "output_type": "stream",
     "text": [
      "Waiting for captures to show up............................................\n",
      "Found Capture Files:\n",
      "s3://sagemaker-ap-northeast-2-023376671800/sagemaker/ModelMonitor/datacapture/model-quality-monitor-2021-11-08-08/AllTraffic/2021/11/08/08/59-35-496-d99009c0-89a5-4505-ad8b-7fa1f73aca1f.jsonl\n",
      " s3://sagemaker-ap-northeast-2-023376671800/sagemaker/ModelMonitor/datacapture/model-quality-monitor-2021-11-08-08/AllTraffic/2021/11/08/09/11-38-907-b203250b-bc56-45b9-a4b1-6a886cc71f29.jsonl\n"
     ]
    }
   ],
   "source": [
    "print(\"Waiting for captures to show up\", end=\"\")\n",
    "for _ in range(120):\n",
    "    capture_files = sorted(S3Downloader.list(f\"{s3_capture_upload_path}/{endpoint_name}\"))\n",
    "    if capture_files:\n",
    "        capture_file = S3Downloader.read_file(capture_files[-1]).split(\"\\n\")\n",
    "        capture_record = json.loads(capture_file[0])\n",
    "        if \"inferenceId\" in capture_record[\"eventMetadata\"]:\n",
    "            break\n",
    "    print(\".\", end=\"\", flush=True)\n",
    "    sleep(1)\n",
    "print()\n",
    "print(\"Found Capture Files:\")\n",
    "print(\"\\n \".join(capture_files[-3:]))"
   ]
  },
  {
   "cell_type": "code",
   "execution_count": 30,
   "id": "aecfc667",
   "metadata": {},
   "outputs": [
    {
     "name": "stdout",
     "output_type": "stream",
     "text": [
      "{\n",
      "  \"captureData\": {\n",
      "    \"endpointInput\": {\n",
      "      \"observedContentType\": \"text/csv\",\n",
      "      \"mode\": \"INPUT\",\n",
      "      \"data\": \"186,0.1,137.8,97,187.7,118,146.4,85,8.7,6,1,0.2,0.3,0.4,0.5,0.6,0.7,0.8,0.9,0.10,0.11,0.12,0.13,0.14,0.15,0.16,0.17,1.1,0.18,0.19,0.20,0.21,0.22,0.23,0.24,0.25,0.26,0.27,0.28,0.29,0.30,0.31,0.32,0.33,0.34,0.35,0.36,0.37,0.38,0.39,0.40,0.41,0.42,0.43,0.44,0.45,0.46,0.47,0.48,0.49,0.50,0.51,0.52,0.53,1.2,1.3,0.54,1.4,0.55\",\n",
      "      \"encoding\": \"CSV\"\n",
      "    },\n",
      "    \"endpointOutput\": {\n",
      "      \"observedContentType\": \"text/csv; charset=utf-8\",\n",
      "      \"mode\": \"OUTPUT\",\n",
      "      \"data\": \"0.01584203727543354\",\n",
      "      \"encoding\": \"CSV\"\n",
      "    }\n",
      "  },\n",
      "  \"eventMetadata\": {\n",
      "    \"eventId\": \"a0e7bb24-7771-46b2-807d-23ec8cc7dfc3\",\n",
      "    \"inferenceId\": \"0\",\n",
      "    \"inferenceTime\": \"2021-11-08T09:11:38Z\"\n",
      "  },\n",
      "  \"eventVersion\": \"0\"\n",
      "}\n"
     ]
    }
   ],
   "source": [
    "# 'inferenceId' attribute that is used to join with ground truth data.\n",
    "print(json.dumps(capture_record, indent=2))"
   ]
  },
  {
   "cell_type": "markdown",
   "id": "51332495",
   "metadata": {},
   "source": [
    "### 4.3 Start generating some fake ground truth\n",
    "실제 사용 사례에서는 Ground truth 데이터를 정기적으로 수집하여 지정된 S3 위치에 업로드해야 합니다. 하지만 이 예제에서는 임의로 생성된 Ground truth를 활용하여 모델 품질 모니터링을 진행하도록 하겠습니다."
   ]
  },
  {
   "cell_type": "code",
   "execution_count": 31,
   "id": "5053c25e",
   "metadata": {},
   "outputs": [],
   "source": [
    "import random\n",
    "\n",
    "def ground_truth_with_id(inference_id):\n",
    "    random.seed(inference_id)  # to get consistent results\n",
    "    rand = random.random()\n",
    "    return {\n",
    "        \"groundTruthData\": {\n",
    "            \"data\": \"1\" if rand < 0.3 else \"0\",  # randomly generate positive labels 30% of the time\n",
    "            \"encoding\": \"CSV\",\n",
    "        },\n",
    "        \"eventMetadata\": {\n",
    "            \"eventId\": str(inference_id),\n",
    "        },\n",
    "        \"eventVersion\": \"0\",\n",
    "    }\n",
    "\n",
    "def upload_ground_truth(records, upload_time):\n",
    "    fake_records = [json.dumps(r) for r in records]\n",
    "    data_to_upload = \"\\n\".join(fake_records)\n",
    "    target_s3_uri = f\"{ground_truth_upload_path}/{upload_time:%Y/%m/%d/%H/%M%S}.jsonl\"\n",
    "    print(f\"Uploading {len(fake_records)} records to\", target_s3_uri)\n",
    "    S3Uploader.upload_string_as_file_body(data_to_upload, target_s3_uri)"
   ]
  },
  {
   "cell_type": "code",
   "execution_count": 32,
   "id": "a5b5f6f4",
   "metadata": {},
   "outputs": [
    {
     "name": "stdout",
     "output_type": "stream",
     "text": [
      "Uploading 200 records to s3://sagemaker-ap-northeast-2-023376671800/sagemaker/ModelMonitor/ground_truth_data/2021-11-08-08/2021/11/08/09/1524.jsonl\n"
     ]
    }
   ],
   "source": [
    "NUM_GROUND_TRUTH_RECORDS = 200  # 200 are the number of rows in data we're sending for inference\n",
    "\n",
    "def generate_fake_ground_truth_forever():\n",
    "    j = 0\n",
    "    while True:\n",
    "        fake_records = [ground_truth_with_id(i) for i in range(NUM_GROUND_TRUTH_RECORDS)]\n",
    "        upload_ground_truth(fake_records, datetime.utcnow())\n",
    "        j = (j + 1) % 5\n",
    "        sleep(60 * 60)  # do this once an hour\n",
    "\n",
    "gt_thread = Thread(target=generate_fake_ground_truth_forever)\n",
    "gt_thread.start()"
   ]
  },
  {
   "cell_type": "markdown",
   "id": "080c8d2b",
   "metadata": {},
   "source": [
    "### 4.4 Create a monitoring schedule\n",
    "이제 기준 정보와 정답 레이블이 있으므로 모델 품질 모니터링 작업을 실행하기 위한 모니터링 스케줄을 만듭니다."
   ]
  },
  {
   "cell_type": "code",
   "execution_count": 33,
   "id": "40f6484d",
   "metadata": {},
   "outputs": [],
   "source": [
    "## Monitoring schedule name\n",
    "churn_monitor_schedule_name = f\"monitoring-schedule-{datetime.utcnow():%Y-%m-%d-%H}\""
   ]
  },
  {
   "cell_type": "markdown",
   "id": "605d7188",
   "metadata": {},
   "source": [
    "* 예측된 값을 해석하는 방법을 지정해야 합니다. 확률 값의 출력 위치는 첫번째 컬럼이므로 `\"0\"`을 지정, cut-off 값은 0.7로 임의 설정 하였습니다.\n",
    "* `destination`으로는 `ModelQualityMonitor` 객체의 `LocalPath`를 지정해주어야 합니다. "
   ]
  },
  {
   "cell_type": "code",
   "execution_count": 29,
   "id": "e3d9eff2",
   "metadata": {},
   "outputs": [],
   "source": [
    "# Create an enpointInput\n",
    "endpointInput = EndpointInput(\n",
    "    endpoint_name=predictor.endpoint_name,\n",
    "    probability_attribute=\"0\",\n",
    "    probability_threshold_attribute=0.7,\n",
    "    destination=\"/opt/ml/processing/input_data\",\n",
    ")"
   ]
  },
  {
   "cell_type": "code",
   "execution_count": 30,
   "id": "51da29a3",
   "metadata": {},
   "outputs": [],
   "source": [
    "# Create the monitoring schedule to execute every hour.\n",
    "from sagemaker.model_monitor import CronExpressionGenerator\n",
    "\n",
    "response = churn_model_quality_monitor.create_monitoring_schedule(\n",
    "    monitor_schedule_name=churn_monitor_schedule_name,\n",
    "    endpoint_input=endpointInput,\n",
    "    output_s3_uri=baseline_results_uri,\n",
    "    problem_type=\"BinaryClassification\",\n",
    "    ground_truth_input=ground_truth_upload_path,\n",
    "    constraints=baseline_job.suggested_constraints(),\n",
    "    schedule_cron_expression=CronExpressionGenerator.hourly(),\n",
    "    enable_cloudwatch_metrics=True,\n",
    ")"
   ]
  },
  {
   "cell_type": "code",
   "execution_count": 31,
   "id": "3ded381b",
   "metadata": {},
   "outputs": [
    {
     "data": {
      "text/plain": [
       "{'MonitoringScheduleArn': 'arn:aws:sagemaker:ap-northeast-2:304701668247:monitoring-schedule/monitoring-schedule-2021-11-05-06',\n",
       " 'MonitoringScheduleName': 'monitoring-schedule-2021-11-05-06',\n",
       " 'MonitoringScheduleStatus': 'Pending',\n",
       " 'MonitoringType': 'ModelQuality',\n",
       " 'CreationTime': datetime.datetime(2021, 11, 5, 6, 41, 15, 698000, tzinfo=tzlocal()),\n",
       " 'LastModifiedTime': datetime.datetime(2021, 11, 5, 6, 41, 15, 721000, tzinfo=tzlocal()),\n",
       " 'MonitoringScheduleConfig': {'ScheduleConfig': {'ScheduleExpression': 'cron(0 * ? * * *)'},\n",
       "  'MonitoringJobDefinitionName': 'model-quality-job-definition-2021-11-05-06-41-15-459',\n",
       "  'MonitoringType': 'ModelQuality'},\n",
       " 'EndpointName': 'model-quality-monitor-2021-11-05-06',\n",
       " 'ResponseMetadata': {'RequestId': '2614bfbb-6678-4484-ada7-8ecf17541012',\n",
       "  'HTTPStatusCode': 200,\n",
       "  'HTTPHeaders': {'x-amzn-requestid': '2614bfbb-6678-4484-ada7-8ecf17541012',\n",
       "   'content-type': 'application/x-amz-json-1.1',\n",
       "   'content-length': '584',\n",
       "   'date': 'Fri, 05 Nov 2021 06:41:15 GMT'},\n",
       "  'RetryAttempts': 0}}"
      ]
     },
     "execution_count": 31,
     "metadata": {},
     "output_type": "execute_result"
    }
   ],
   "source": [
    "# Check the monitoring schedule in the 'Scheduled' status\n",
    "churn_model_quality_monitor.describe_schedule()"
   ]
  },
  {
   "cell_type": "markdown",
   "id": "a74433ff",
   "metadata": {},
   "source": [
    "### 4.5 Examine monitoring schedule executions\n",
    "첫 번째 실행이 정시에 발생하기 때문에 처음에는 실행이 없습니다. 실행은 1시간 후 최대 20분까지 실행되는 것이 일반적입니다."
   ]
  },
  {
   "cell_type": "code",
   "execution_count": 32,
   "id": "e5fcbd31",
   "metadata": {},
   "outputs": [
    {
     "name": "stdout",
     "output_type": "stream",
     "text": [
      "No executions found for schedule. monitoring_schedule_name: monitoring-schedule-2021-11-05-06\n"
     ]
    },
    {
     "data": {
      "text/plain": [
       "[]"
      ]
     },
     "execution_count": 32,
     "metadata": {},
     "output_type": "execute_result"
    }
   ],
   "source": [
    "executions = churn_model_quality_monitor.list_executions()\n",
    "executions"
   ]
  },
  {
   "cell_type": "code",
   "execution_count": 33,
   "id": "6d6992df",
   "metadata": {},
   "outputs": [
    {
     "name": "stdout",
     "output_type": "stream",
     "text": [
      "Waiting for first execution\n",
      "Execution found!\n"
     ]
    }
   ],
   "source": [
    "# Wait for the first execution of the monitoring_schedule\n",
    "print(\"Waiting for first execution\", end=\"\")\n",
    "while True:\n",
    "    execution = churn_model_quality_monitor.describe_schedule().get(\"LastMonitoringExecutionSummary\")\n",
    "    if execution:\n",
    "        break\n",
    "    print(\".\", end=\"\", flush=True)\n",
    "    sleep(10)\n",
    "print()\n",
    "print(\"Execution found!\")"
   ]
  },
  {
   "cell_type": "code",
   "execution_count": 34,
   "id": "d9fbc908",
   "metadata": {},
   "outputs": [
    {
     "data": {
      "text/plain": [
       "{'ProcessingInputs': [{'InputName': 'constraints',\n",
       "   'AppManaged': False,\n",
       "   'S3Input': {'S3Uri': 's3://sagemaker-ap-northeast-2-304701668247/sagemaker/ModelMonitor/baselining/results/constraints.json',\n",
       "    'LocalPath': '/opt/ml/processing/baseline/constraints',\n",
       "    'S3DataType': 'S3Prefix',\n",
       "    'S3InputMode': 'File',\n",
       "    'S3DataDistributionType': 'FullyReplicated'}},\n",
       "  {'InputName': 'endpoint_input_1',\n",
       "   'AppManaged': False,\n",
       "   'S3Input': {'S3Uri': 's3://sagemaker-ap-northeast-2-304701668247/sagemaker/ModelMonitor/baselining/results/merge/model-quality-monitor-2021-11-05-06/AllTraffic/2021/11/05/06',\n",
       "    'LocalPath': '/opt/ml/processing/input_data/model-quality-monitor-2021-11-05-06/AllTraffic/2021/11/05/06',\n",
       "    'S3DataType': 'S3Prefix',\n",
       "    'S3InputMode': 'File',\n",
       "    'S3DataDistributionType': 'FullyReplicated',\n",
       "    'S3CompressionType': 'None'}}],\n",
       " 'ProcessingOutputConfig': {'Outputs': [{'OutputName': 'result',\n",
       "    'S3Output': {'S3Uri': 's3://sagemaker-ap-northeast-2-304701668247/sagemaker/ModelMonitor/baselining/results/model-quality-monitor-2021-11-05-06/monitoring-schedule-2021-11-05-06/2021/11/05/07',\n",
       "     'LocalPath': '/opt/ml/processing/output',\n",
       "     'S3UploadMode': 'Continuous'},\n",
       "    'AppManaged': False}]},\n",
       " 'ProcessingJobName': 'model-quality-monitoring-202111050700-f4abc89c439469428bf181b3',\n",
       " 'ProcessingResources': {'ClusterConfig': {'InstanceCount': 1,\n",
       "   'InstanceType': 'ml.m5.xlarge',\n",
       "   'VolumeSizeInGB': 30}},\n",
       " 'StoppingCondition': {'MaxRuntimeInSeconds': 1800},\n",
       " 'AppSpecification': {'ImageUri': '709848358524.dkr.ecr.ap-northeast-2.amazonaws.com/sagemaker-model-monitor-analyzer'},\n",
       " 'Environment': {'analysis_type': 'MODEL_QUALITY',\n",
       "  'baseline_constraints': '/opt/ml/processing/baseline/constraints/constraints.json',\n",
       "  'dataset_format': '{\"sagemakerMergeJson\":{\"captureIndexNames\":[\"endpointOutput\"]}}',\n",
       "  'dataset_source': '/opt/ml/processing/input_data',\n",
       "  'end_time': '2021-11-05T07:00:00Z',\n",
       "  'metric_time': '2021-11-05T06:00:00Z',\n",
       "  'output_path': '/opt/ml/processing/output',\n",
       "  'probability_attribute': '0',\n",
       "  'probability_threshold_attribute': '0.700000',\n",
       "  'problem_type': 'BinaryClassification',\n",
       "  'publish_cloudwatch_metrics': 'Enabled',\n",
       "  'sagemaker_endpoint_name': 'model-quality-monitor-2021-11-05-06',\n",
       "  'sagemaker_monitoring_schedule_name': 'monitoring-schedule-2021-11-05-06',\n",
       "  'start_time': '2021-11-05T06:00:00Z'},\n",
       " 'RoleArn': 'arn:aws:iam::304701668247:role/service-role/AmazonSageMaker-ExecutionRole-20211029T130241',\n",
       " 'ProcessingJobArn': 'arn:aws:sagemaker:ap-northeast-2:304701668247:processing-job/model-quality-monitoring-202111050700-f4abc89c439469428bf181b3',\n",
       " 'ProcessingJobStatus': 'Completed',\n",
       " 'ExitMessage': 'CompletedWithViolations: Job completed successfully with 10 violations.',\n",
       " 'ProcessingEndTime': datetime.datetime(2021, 11, 5, 7, 15, 40, 159000, tzinfo=tzlocal()),\n",
       " 'ProcessingStartTime': datetime.datetime(2021, 11, 5, 7, 12, 56, 703000, tzinfo=tzlocal()),\n",
       " 'LastModifiedTime': datetime.datetime(2021, 11, 5, 7, 15, 40, 856000, tzinfo=tzlocal()),\n",
       " 'CreationTime': datetime.datetime(2021, 11, 5, 7, 8, 48, 666000, tzinfo=tzlocal()),\n",
       " 'MonitoringScheduleArn': 'arn:aws:sagemaker:ap-northeast-2:304701668247:monitoring-schedule/monitoring-schedule-2021-11-05-06',\n",
       " 'ResponseMetadata': {'RequestId': 'e3a870b8-ba42-4671-891c-e0d60643bedd',\n",
       "  'HTTPStatusCode': 200,\n",
       "  'HTTPHeaders': {'x-amzn-requestid': 'e3a870b8-ba42-4671-891c-e0d60643bedd',\n",
       "   'content-type': 'application/x-amz-json-1.1',\n",
       "   'content-length': '2827',\n",
       "   'date': 'Fri, 05 Nov 2021 07:40:31 GMT'},\n",
       "  'RetryAttempts': 0}}"
      ]
     },
     "execution_count": 34,
     "metadata": {},
     "output_type": "execute_result"
    }
   ],
   "source": [
    "while not executions:\n",
    "    executions = churn_model_quality_monitor.list_executions()\n",
    "    sleep(10)\n",
    "latest_execution = executions[-1]\n",
    "latest_execution.describe()"
   ]
  },
  {
   "cell_type": "markdown",
   "id": "d2c99f37",
   "metadata": {},
   "source": [
    "### 4.6 Inspect a specific execution (latest execution)\n",
    "* Completed - 모니터링 실행이 완료되었으며 위반 보고서에서 문제가 발견되지 않았음을 의미합니다.\n",
    "* CompletedWithViolations - 실행이 완료되었지만 제약 조건 위반이 감지되었음을 의미합니다.\n",
    "* Failed - 클라이언트 오류 또는 인프라 문제로 인해 모니터링 실행이 실패했습니다.\n",
    "* Stopped - 작업이 최대 런타임을 초과했거나 수동으로 중지되었습니다."
   ]
  },
  {
   "cell_type": "code",
   "execution_count": 35,
   "id": "5df62b91",
   "metadata": {},
   "outputs": [
    {
     "name": "stdout",
     "output_type": "stream",
     "text": [
      "Execution status is: CompletedWithViolations\n",
      "{'MonitoringScheduleName': 'monitoring-schedule-2021-11-05-06', 'ScheduledTime': datetime.datetime(2021, 11, 5, 7, 0, tzinfo=tzlocal()), 'CreationTime': datetime.datetime(2021, 11, 5, 7, 3, 49, 687000, tzinfo=tzlocal()), 'LastModifiedTime': datetime.datetime(2021, 11, 5, 7, 15, 45, 874000, tzinfo=tzlocal()), 'MonitoringExecutionStatus': 'CompletedWithViolations', 'ProcessingJobArn': 'arn:aws:sagemaker:ap-northeast-2:304701668247:processing-job/model-quality-monitoring-202111050700-f4abc89c439469428bf181b3', 'EndpointName': 'model-quality-monitor-2021-11-05-06'}\n",
      "====STOP==== \n",
      " No completed executions to inspect further. Please wait till an execution completes or investigate previously reported failures.\n"
     ]
    }
   ],
   "source": [
    "status = execution[\"MonitoringExecutionStatus\"]\n",
    "\n",
    "while status in [\"Pending\", \"InProgress\"]:\n",
    "    print(\"Waiting for execution to finish\", end=\"\")\n",
    "    latest_execution.wait(logs=False)\n",
    "    latest_job = latest_execution.describe()\n",
    "    print()\n",
    "    print(f\"{latest_job['ProcessingJobName']} job status:\", latest_job[\"ProcessingJobStatus\"])\n",
    "    print(\n",
    "        f\"{latest_job['ProcessingJobName']} job exit message, if any:\",\n",
    "        latest_job.get(\"ExitMessage\"),\n",
    "    )\n",
    "    print(\n",
    "        f\"{latest_job['ProcessingJobName']} job failure reason, if any:\",\n",
    "        latest_job.get(\"FailureReason\"),\n",
    "    )\n",
    "    sleep(60)  # model quality executions consist of two Processing jobs, wait for second job to start\n",
    "    latest_execution = churn_model_quality_monitor.list_executions()[-1]\n",
    "    execution = churn_model_quality_monitor.describe_schedule()[\"LastMonitoringExecutionSummary\"]\n",
    "    status = execution[\"MonitoringExecutionStatus\"]\n",
    "\n",
    "print(\"Execution status is:\", status)\n",
    "\n",
    "if status != \"Completed\":\n",
    "    print(execution)\n",
    "    print(\"====STOP==== \\n No completed executions to inspect further. Please wait till an execution completes or investigate previously reported failures.\")"
   ]
  },
  {
   "cell_type": "code",
   "execution_count": 36,
   "id": "b59b4221",
   "metadata": {},
   "outputs": [
    {
     "name": "stdout",
     "output_type": "stream",
     "text": [
      "Report Uri: s3://sagemaker-ap-northeast-2-304701668247/sagemaker/ModelMonitor/baselining/results/model-quality-monitor-2021-11-05-06/monitoring-schedule-2021-11-05-06/2021/11/05/07\n"
     ]
    }
   ],
   "source": [
    "latest_execution = churn_model_quality_monitor.list_executions()[-1]\n",
    "report_uri = latest_execution.describe()[\"ProcessingOutputConfig\"][\"Outputs\"][0][\"S3Output\"][\"S3Uri\"]\n",
    "print(\"Report Uri:\", report_uri)"
   ]
  },
  {
   "cell_type": "markdown",
   "id": "93d29be8",
   "metadata": {},
   "source": [
    "### 4.7 View violations generated by monitoring schedule\n",
    "Baseline과 비교하여 위반이 있는 경우 S3에 업로드된 Report에 표시됩니다."
   ]
  },
  {
   "cell_type": "code",
   "execution_count": 43,
   "id": "4a6523c7",
   "metadata": {},
   "outputs": [
    {
     "data": {
      "text/html": [
       "<div>\n",
       "<style scoped>\n",
       "    .dataframe tbody tr th:only-of-type {\n",
       "        vertical-align: middle;\n",
       "    }\n",
       "\n",
       "    .dataframe tbody tr th {\n",
       "        vertical-align: top;\n",
       "    }\n",
       "\n",
       "    .dataframe thead th {\n",
       "        text-align: right;\n",
       "    }\n",
       "</style>\n",
       "<table border=\"1\" class=\"dataframe\">\n",
       "  <thead>\n",
       "    <tr style=\"text-align: right;\">\n",
       "      <th></th>\n",
       "      <th>constraint_check_type</th>\n",
       "      <th>description</th>\n",
       "      <th>metric_name</th>\n",
       "    </tr>\n",
       "  </thead>\n",
       "  <tbody>\n",
       "    <tr>\n",
       "      <th>0</th>\n",
       "      <td>LessThanThreshold</td>\n",
       "      <td>Metric auc with 0.5283596122131285 +/- 0.0105902315698309 was LessThanThreshold '0.9395127993393898'</td>\n",
       "      <td>auc</td>\n",
       "    </tr>\n",
       "    <tr>\n",
       "      <th>1</th>\n",
       "      <td>LessThanThreshold</td>\n",
       "      <td>Metric precision with 0.3333333333333333 +/- 0.01862456281627294 was LessThanThreshold '1.0'</td>\n",
       "      <td>precision</td>\n",
       "    </tr>\n",
       "    <tr>\n",
       "      <th>2</th>\n",
       "      <td>LessThanThreshold</td>\n",
       "      <td>Metric truePositiveRate with 0.09465020576131687 +/- 0.0031985592089746944 was LessThanThreshold '0.5714285714285714'</td>\n",
       "      <td>truePositiveRate</td>\n",
       "    </tr>\n",
       "    <tr>\n",
       "      <th>3</th>\n",
       "      <td>LessThanThreshold</td>\n",
       "      <td>Metric f1 with 0.14743589743589744 +/- 0.005034285255406367 was LessThanThreshold '0.7272727272727273'</td>\n",
       "      <td>f1</td>\n",
       "    </tr>\n",
       "    <tr>\n",
       "      <th>4</th>\n",
       "      <td>LessThanThreshold</td>\n",
       "      <td>Metric accuracy with 0.6576576576576577 +/- 0.009261753638607663 was LessThanThreshold '0.9402985074626866'</td>\n",
       "      <td>accuracy</td>\n",
       "    </tr>\n",
       "    <tr>\n",
       "      <th>5</th>\n",
       "      <td>GreaterThanThreshold</td>\n",
       "      <td>Metric falsePositiveRate with 0.08614232209737828 +/- 0.005937813811224641 was GreaterThanThreshold '0.0'</td>\n",
       "      <td>falsePositiveRate</td>\n",
       "    </tr>\n",
       "    <tr>\n",
       "      <th>6</th>\n",
       "      <td>LessThanThreshold</td>\n",
       "      <td>Metric trueNegativeRate with 0.9138576779026217 +/- 0.005937813811224677 was LessThanThreshold '1.0'</td>\n",
       "      <td>trueNegativeRate</td>\n",
       "    </tr>\n",
       "    <tr>\n",
       "      <th>7</th>\n",
       "      <td>GreaterThanThreshold</td>\n",
       "      <td>Metric falseNegativeRate with 0.9053497942386831 +/- 0.003198559208974675 was GreaterThanThreshold '0.4285714285714286'</td>\n",
       "      <td>falseNegativeRate</td>\n",
       "    </tr>\n",
       "    <tr>\n",
       "      <th>8</th>\n",
       "      <td>LessThanThreshold</td>\n",
       "      <td>Metric recall with 0.09465020576131687 +/- 0.0031985592089746944 was LessThanThreshold '0.5714285714285714'</td>\n",
       "      <td>recall</td>\n",
       "    </tr>\n",
       "    <tr>\n",
       "      <th>9</th>\n",
       "      <td>LessThanThreshold</td>\n",
       "      <td>Metric f2 with 0.11047070124879924 +/- 0.003704668132874108 was LessThanThreshold '0.625'</td>\n",
       "      <td>f2</td>\n",
       "    </tr>\n",
       "  </tbody>\n",
       "</table>\n",
       "</div>"
      ],
      "text/plain": [
       "  constraint_check_type  \\\n",
       "0     LessThanThreshold   \n",
       "1     LessThanThreshold   \n",
       "2     LessThanThreshold   \n",
       "3     LessThanThreshold   \n",
       "4     LessThanThreshold   \n",
       "5  GreaterThanThreshold   \n",
       "6     LessThanThreshold   \n",
       "7  GreaterThanThreshold   \n",
       "8     LessThanThreshold   \n",
       "9     LessThanThreshold   \n",
       "\n",
       "                                                                                                               description  \\\n",
       "0                     Metric auc with 0.5283596122131285 +/- 0.0105902315698309 was LessThanThreshold '0.9395127993393898'   \n",
       "1                             Metric precision with 0.3333333333333333 +/- 0.01862456281627294 was LessThanThreshold '1.0'   \n",
       "2    Metric truePositiveRate with 0.09465020576131687 +/- 0.0031985592089746944 was LessThanThreshold '0.5714285714285714'   \n",
       "3                   Metric f1 with 0.14743589743589744 +/- 0.005034285255406367 was LessThanThreshold '0.7272727272727273'   \n",
       "4              Metric accuracy with 0.6576576576576577 +/- 0.009261753638607663 was LessThanThreshold '0.9402985074626866'   \n",
       "5                Metric falsePositiveRate with 0.08614232209737828 +/- 0.005937813811224641 was GreaterThanThreshold '0.0'   \n",
       "6                     Metric trueNegativeRate with 0.9138576779026217 +/- 0.005937813811224677 was LessThanThreshold '1.0'   \n",
       "7  Metric falseNegativeRate with 0.9053497942386831 +/- 0.003198559208974675 was GreaterThanThreshold '0.4285714285714286'   \n",
       "8              Metric recall with 0.09465020576131687 +/- 0.0031985592089746944 was LessThanThreshold '0.5714285714285714'   \n",
       "9                                Metric f2 with 0.11047070124879924 +/- 0.003704668132874108 was LessThanThreshold '0.625'   \n",
       "\n",
       "         metric_name  \n",
       "0                auc  \n",
       "1          precision  \n",
       "2   truePositiveRate  \n",
       "3                 f1  \n",
       "4           accuracy  \n",
       "5  falsePositiveRate  \n",
       "6   trueNegativeRate  \n",
       "7  falseNegativeRate  \n",
       "8             recall  \n",
       "9                 f2  "
      ]
     },
     "execution_count": 43,
     "metadata": {},
     "output_type": "execute_result"
    }
   ],
   "source": [
    "pd.options.display.max_colwidth = None\n",
    "violations = latest_execution.constraint_violations().body_dict[\"violations\"]\n",
    "violations_df = pd.json_normalize(violations)\n",
    "violations_df.head(10)"
   ]
  },
  {
   "cell_type": "markdown",
   "id": "73383931",
   "metadata": {},
   "source": [
    "## Section 5 - Analyze model quality CloudWatch metrics\n",
    "모니터링 스케줄은 CloudWatch 지표도 출력합니다. 이 섹션에서는 생성된 지표를 보고 모델 품질이 기준 임계값에서 벗어날 때 트리거될 CloudWatch 알람을 설정합니다. 해당 작업은 CloudWatch에서 수동으로도 설정하는 것이 가능합니다."
   ]
  },
  {
   "cell_type": "markdown",
   "id": "2837d19b",
   "metadata": {},
   "source": [
    "### 5.1 List the CW metrics generated"
   ]
  },
  {
   "cell_type": "code",
   "execution_count": 38,
   "id": "ad431194",
   "metadata": {},
   "outputs": [],
   "source": [
    "# Create CloudWatch client\n",
    "cw_client = boto3.Session().client(\"cloudwatch\")\n",
    "\n",
    "namespace = \"aws/sagemaker/Endpoints/model-metrics\" #어떤 모델 모니터를 사용했는지에 따라 경로가 다름\n",
    "\n",
    "cw_dimensions = [\n",
    "    {\"Name\": \"Endpoint\", \"Value\": endpoint_name},\n",
    "    {\"Name\": \"MonitoringSchedule\", \"Value\": churn_monitor_schedule_name},\n",
    "]"
   ]
  },
  {
   "cell_type": "code",
   "execution_count": 39,
   "id": "74d8d246",
   "metadata": {},
   "outputs": [
    {
     "name": "stdout",
     "output_type": "stream",
     "text": [
      "f0_5_best_constant_classifier\n",
      "f2_best_constant_classifier\n",
      "f1_best_constant_classifier\n",
      "auc\n",
      "precision\n",
      "accuracy_best_constant_classifier\n",
      "true_positive_rate\n",
      "f1\n",
      "accuracy\n",
      "false_positive_rate\n",
      "f0_5\n",
      "true_negative_rate\n",
      "false_negative_rate\n",
      "recall_best_constant_classifier\n",
      "precision_best_constant_classifier\n",
      "recall\n",
      "f2\n"
     ]
    }
   ],
   "source": [
    "# List metrics through the pagination interface\n",
    "paginator = cw_client.get_paginator(\"list_metrics\")\n",
    "\n",
    "for response in paginator.paginate(Dimensions=cw_dimensions, Namespace=namespace):\n",
    "    model_quality_metrics = response[\"Metrics\"]\n",
    "    for metric in model_quality_metrics:\n",
    "        print(metric[\"MetricName\"])"
   ]
  },
  {
   "cell_type": "markdown",
   "id": "d5ce9dab",
   "metadata": {},
   "source": [
    "### 5.2 Create a CloudWatch Alarm\n",
    "모델의 accuracy 값이 지정한 임계값 아래로 떨어지면 알람을 생성합니다."
   ]
  },
  {
   "cell_type": "code",
   "execution_count": 40,
   "id": "5e076c46",
   "metadata": {},
   "outputs": [
    {
     "data": {
      "text/plain": [
       "{'ResponseMetadata': {'RequestId': 'de256834-9a79-4406-8ec9-b3d081db9db5',\n",
       "  'HTTPStatusCode': 200,\n",
       "  'HTTPHeaders': {'x-amzn-requestid': 'de256834-9a79-4406-8ec9-b3d081db9db5',\n",
       "   'content-type': 'text/xml',\n",
       "   'content-length': '214',\n",
       "   'date': 'Fri, 05 Nov 2021 07:41:29 GMT'},\n",
       "  'RetryAttempts': 0}}"
      ]
     },
     "execution_count": 40,
     "metadata": {},
     "output_type": "execute_result"
    }
   ],
   "source": [
    "alarm_name = \"Acccuracy Drift Monitoring\"\n",
    "alarm_desc = \"Trigger an CloudWatch alarm when the accuracy drifts\"\n",
    "model_quality_accuracy_drift_threshold = 0.64\n",
    "metric_name = \"accuracy\"\n",
    "\n",
    "cw_client.put_metric_alarm(\n",
    "    AlarmName=alarm_name,\n",
    "    AlarmDescription=alarm_desc,\n",
    "    ActionsEnabled=True,\n",
    "    MetricName=metric_name,\n",
    "    Namespace=namespace,\n",
    "    Statistic=\"Average\",\n",
    "    Dimensions=cw_dimensions,\n",
    "    Period=3600,\n",
    "    EvaluationPeriods=1,\n",
    "    DatapointsToAlarm=1,\n",
    "    Threshold=model_quality_accuracy_drift_threshold,\n",
    "    ComparisonOperator=\"LessThanOrEqualToThreshold\",\n",
    "    TreatMissingData=\"missing\",\n",
    ")"
   ]
  },
  {
   "cell_type": "markdown",
   "id": "f234cc38",
   "metadata": {},
   "source": [
    "## Clean up"
   ]
  },
  {
   "cell_type": "code",
   "execution_count": 41,
   "id": "183de5fc",
   "metadata": {},
   "outputs": [
    {
     "name": "stdout",
     "output_type": "stream",
     "text": [
      "{\n",
      "    \"MonitoringScheduleSummaries\": [\n",
      "        {\n",
      "            \"MonitoringScheduleName\": \"monitoring-schedule-2021-11-05-06\",\n",
      "            \"MonitoringScheduleArn\": \"arn:aws:sagemaker:ap-northeast-2:304701668247:monitoring-schedule/monitoring-schedule-2021-11-05-06\",\n",
      "            \"CreationTime\": 1636094475.698,\n",
      "            \"LastModifiedTime\": 1636096545.89,\n",
      "            \"MonitoringScheduleStatus\": \"Scheduled\",\n",
      "            \"EndpointName\": \"model-quality-monitor-2021-11-05-06\",\n",
      "            \"MonitoringJobDefinitionName\": \"model-quality-job-definition-2021-11-05-06-41-15-459\",\n",
      "            \"MonitoringType\": \"ModelQuality\"\n",
      "        }\n",
      "    ]\n",
      "}\n"
     ]
    }
   ],
   "source": [
    "!aws sagemaker list-monitoring-schedules --region 'ap-northeast-2'"
   ]
  },
  {
   "cell_type": "code",
   "execution_count": null,
   "id": "0252f1b3",
   "metadata": {},
   "outputs": [],
   "source": [
    "!aws sagemaker delete-monitoring-schedule --monitoring-schedule-name \"monitoring-schedule-2021-11-05-06\""
   ]
  },
  {
   "cell_type": "code",
   "execution_count": 42,
   "id": "da153edf",
   "metadata": {},
   "outputs": [
    {
     "name": "stdout",
     "output_type": "stream",
     "text": [
      "{\n",
      "    \"Endpoints\": [\n",
      "        {\n",
      "            \"EndpointName\": \"model-quality-monitor-2021-11-05-06\",\n",
      "            \"EndpointArn\": \"arn:aws:sagemaker:ap-northeast-2:304701668247:endpoint/model-quality-monitor-2021-11-05-06\",\n",
      "            \"CreationTime\": 1636093675.959,\n",
      "            \"LastModifiedTime\": 1636094051.071,\n",
      "            \"EndpointStatus\": \"InService\"\n",
      "        }\n",
      "    ]\n",
      "}\n"
     ]
    }
   ],
   "source": [
    "!aws sagemaker list-endpoints --region 'ap-northeast-2'"
   ]
  },
  {
   "cell_type": "code",
   "execution_count": null,
   "id": "cbf3becf",
   "metadata": {},
   "outputs": [],
   "source": [
    "!aws sagemaker delete-endpoint --endpoint-name \"model-quality-monitor-2021-11-05-06\""
   ]
  }
 ],
 "metadata": {
  "kernelspec": {
   "display_name": "conda_pytorch_p36",
   "language": "python",
   "name": "conda_pytorch_p36"
  },
  "language_info": {
   "codemirror_mode": {
    "name": "ipython",
    "version": 3
   },
   "file_extension": ".py",
   "mimetype": "text/x-python",
   "name": "python",
   "nbconvert_exporter": "python",
   "pygments_lexer": "ipython3",
   "version": "3.6.13"
  }
 },
 "nbformat": 4,
 "nbformat_minor": 5
}
